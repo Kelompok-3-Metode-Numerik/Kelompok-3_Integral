{
 "cells": [
  {
   "cell_type": "markdown",
   "metadata": {
    "id": "mKukWy92uzzq"
   },
   "source": [
    "Metode Trapesium/Trapezoidal\n"
   ]
  },
  {
   "cell_type": "code",
   "execution_count": 5,
   "metadata": {
    "colab": {
     "base_uri": "https://localhost:8080/",
     "height": 338
    },
    "id": "7oWjjeYG8JUE",
    "outputId": "b50c0ca7-312d-422b-fb45-b5e5c46b95f4"
   },
   "outputs": [
    {
     "name": "stdout",
     "output_type": "stream",
     "text": [
      "Masukan batas bawah : 0\n",
      "Masukan batas atas : 4\n",
      "Masukan sub-interval: 4\n",
      "Hasil Integral dengan Trapezoidal: 1.329\n"
     ]
    },
    {
     "data": {
      "image/png": "[encoded data removed]",
      "text/plain": [
       "<Figure size 640x480 with 1 Axes>"
      ]
     },
     "metadata": {},
     "output_type": "display_data"
    }
   ],
   "source": [
    "import numpy as np\n",
    "import matplotlib.pyplot as plt\n",
    "\n",
    "#Mendefinisikan function yang akan di integralkan\n",
    "def f(x):\n",
    "  return 1/(1+x**2) #misal fungsinya integralnya ini\n",
    " \n",
    "\n",
    "#Implementasi Trapezoidal Method\n",
    "def trapezoidal(x0,xn,n):\n",
    "  #menghitung delta x (panjang satu pias)\n",
    "  h=(xn-x0)/n\n",
    "  #mencari sum\n",
    "  integral=f(x0)+f(xn)\n",
    "  #melakukan perulangan \n",
    "  for i in range(1,n):\n",
    "    k=x0+i*h\n",
    "    integral=integral+2*f(k)\n",
    "  \n",
    "  #mencari hasil inte1gral\n",
    "  integral=integral*h/2\n",
    "  return integral\n",
    "\n",
    "# Input section\n",
    "lower_limit = float(input(\"Masukan batas bawah : \"))\n",
    "upper_limit = float(input(\"Masukan batas atas : \"))\n",
    "sub_interval = int(input(\"Masukan sub-interval: \"))\n",
    "\n",
    "# Call trapezoidal() method and get result\n",
    "result = trapezoidal(lower_limit, upper_limit, sub_interval)\n",
    "print(\"Hasil Integral dengan Trapezoidal: %0.3f\" % (result) )\n",
    "\n",
    "#Menggambar Grafik Kurva\n",
    "x=np.linspace(lower_limit,upper_limit,sub_interval+1)\n",
    "xp=np.linspace(lower_limit,upper_limit,1000)\n",
    "plt.plot(xp,f(xp))\n",
    "for i in range(sub_interval+1):\n",
    "  plt.bar(x[i], f(x[i]), width=0.0001, color='gray', edgecolor='red')\n",
    "\n",
    "plt.fill_between(x,f(x), color='gray')\n",
    "plt.show()"
   ]
  },
  {
   "cell_type": "markdown",
   "metadata": {
    "id": "gz0rylfFI-yj"
   },
   "source": [
    "# Metode Simpson's 1/3"
   ]
  },
  {
   "cell_type": "code",
   "execution_count": 4,
   "metadata": {
    "colab": {
     "base_uri": "https://localhost:8080/"
    },
    "id": "biAUrgowJG5C",
    "outputId": "31fb0beb-5fba-481e-bb36-c66cee29f8a5"
   },
   "outputs": [
    {
     "name": "stdout",
     "output_type": "stream",
     "text": [
      "Masukan nilai limit bawah integral: 0\n",
      "Masukan nilai limit atas integral: 4\n",
      "Masukan nilai sub-interval: 4\n",
      "Hasil Integral dengan Metode Simpson's 1/3: 1.28627\n"
     ]
    }
   ],
   "source": [
    "#Simpson's 1/3 Rule\n",
    "#Define function to integral\n",
    "def f(x):\n",
    "  return 1/(1+x**2)\n",
    "\n",
    "#Implementasi Simpson's 1/3\n",
    "def simpson13(x0,xn,n):\n",
    "  #kalkulasi step size\n",
    "  h=(xn-x0)/n\n",
    "  #mencari sum\n",
    "  integration=f(x0)+f(xn)\n",
    "  for i in range(1,n):\n",
    "    k=x0+i*h\n",
    "    if i%2==0:\n",
    "      integration=integration+2*f(k)\n",
    "    else:\n",
    "      integration=integration+4*f(k)\n",
    "  #mencari final nilai integral\n",
    "  integration=integration*h/3\n",
    "  return integration\n",
    "\n",
    "#Input section\n",
    "lower_limit = float(input(\"Masukan nilai limit bawah integral: \"))\n",
    "upper_limit = float(input(\"Masukan nilai limit atas integral: \"))\n",
    "sub_interval = int(input(\"Masukan nilai sub-interval: \"))\n",
    "\n",
    "#Panggil trapezodial() method dan mengambil hasil\n",
    "result=simpson13(lower_limit, upper_limit, sub_interval)\n",
    "print(\"Hasil Integral dengan Metode Simpson's 1/3: %0.5f\"%(result))\n"
   ]
  },
  {
   "cell_type": "markdown",
   "metadata": {
    "id": "BeQo1IWjUPlo"
   },
   "source": [
    "# Metode Simpson's 3/8"
   ]
  },
  {
   "cell_type": "code",
   "execution_count": 6,
   "metadata": {
    "colab": {
     "base_uri": "https://localhost:8080/"
    },
    "id": "XpxzRK8jUTTH",
    "outputId": "52c308db-aa8c-4f62-df4c-65b080a3ad0b"
   },
   "outputs": [
    {
     "name": "stdout",
     "output_type": "stream",
     "text": [
      "Masukan nilai limit bawah integral: 0\n",
      "Masukan nilai limit atas integral: 4\n",
      "Masukan nilai sub integral: 4\n",
      "Hasil Integral dengan Metode Simpson's 3/8: 1.2221\n"
     ]
    }
   ],
   "source": [
    "import numpy as np\n",
    "#define function untuk integral\n",
    "def f(x):\n",
    "  return 1/(1+x**2)\n",
    "\n",
    "#implementasi simpson's 3/8\n",
    "def simpson38(x0,xn,n):\n",
    "  #menghitung step size\n",
    "  h=(xn-x0)/n\n",
    "  #mencari sum\n",
    "  integration=f(x0)+f(xn)\n",
    "  for i in range(1,n):\n",
    "    k=x0+i*h \n",
    "    if i%2 == 0:\n",
    "      integration=integration+2*f(k)\n",
    "    else:\n",
    "      integration=integration+3*f(k)\n",
    "  #mencari nilai final integral\n",
    "  integration=integration*3*h/8\n",
    "  return integration\n",
    "\n",
    "#Input section\n",
    "lower_limit = float(input(\"Masukan nilai limit bawah integral: \"))\n",
    "upper_limit = float(input(\"Masukan nilai limit atas integral: \"))\n",
    "sub_interval = int(input(\"Masukan nilai sub integral: \"))\n",
    "\n",
    "#Panggil trapezodial() method dan mengambil hasil\n",
    "result=simpson38(lower_limit, upper_limit, sub_interval)\n",
    "print(\"Hasil Integral dengan Metode Simpson's 3/8: %0.4f\"%(result))\n"
   ]
  },
  {
   "cell_type": "code",
   "execution_count": null,
   "metadata": {},
   "outputs": [],
   "source": []
  }
 ],
 "metadata": {
  "colab": {
   "collapsed_sections": [
    "OL0bYqRkoMqU",
    "dAKHyB_EpKlJ",
    "j0Hcv342_fQY"
   ],
   "provenance": []
  },
  "kernelspec": {
   "display_name": "Python 3 (ipykernel)",
   "language": "python",
   "name": "python3"
  },
  "language_info": {
   "codemirror_mode": {
    "name": "ipython",
    "version": 3
   },
   "file_extension": ".py",
   "mimetype": "text/x-python",
   "name": "python",
   "nbconvert_exporter": "python",
   "pygments_lexer": "ipython3",
   "version": "3.9.13"
  },
  "vscode": {
   "interpreter": {
    "hash": "23bf0724a01b6ea9814e66f76182ea78c0ee849a72ca257c0e116bf83bb4960a"
   }
  }
 },
 "nbformat": 4,
 "nbformat_minor": 1
}
